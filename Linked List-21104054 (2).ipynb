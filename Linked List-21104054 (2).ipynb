{
 "cells": [
  {
   "cell_type": "code",
   "execution_count": 56,
   "id": "dfba8669",
   "metadata": {},
   "outputs": [
    {
     "name": "stdout",
     "output_type": "stream",
     "text": [
      "Name- father Age- 40 , Name- mother Age- 35 , Name- daughter Age- 18 , Name- son Age- 10 , "
     ]
    }
   ],
   "source": [
    "class Node:\n",
    "    def __init__(self,name=None,age=None):\n",
    "        self.name=name\n",
    "        self.age=age\n",
    "        self.prev=None\n",
    "        self.next=None\n",
    "class doublylinkedlist:\n",
    "    def __init__(self):\n",
    "        self.head=None\n",
    "        self.tail=None\n",
    "        \n",
    "#creating a double linked list \n",
    "    def createdll(self,name,age):\n",
    "        node1= Node(name,age)\n",
    "        self.head=node1\n",
    "        self.tail=node1\n",
    "\n",
    "#traversing a double linked list        \n",
    "    def display(self):\n",
    "        if self.head is None:\n",
    "            print(\"empty list\")\n",
    "        else:\n",
    "            n=self.head\n",
    "            while n is not None:\n",
    "                print(\"Name-\",n.name,\"Age-\",n.age,\",\",end=\" \")\n",
    "                n=n.next\n",
    "                \n",
    "                \n",
    "DLL= doublylinkedlist()\n",
    "DLL.createdll(\"father\",40)\n",
    "DLL.display()\n",
    "DLL.createdll(\"mother\",35)\n",
    "DLL.display()\n",
    "DLL.createdll(\"daughter\",18)\n",
    "DLL.display()\n",
    "DLL.createdll(\"son\",10)\n",
    "DLL.display()\n",
    "\n",
    "        \n",
    "        "
   ]
  },
  {
   "cell_type": "code",
   "execution_count": null,
   "id": "6e55ece3",
   "metadata": {},
   "outputs": [],
   "source": []
  },
  {
   "cell_type": "code",
   "execution_count": null,
   "id": "68c29c96",
   "metadata": {},
   "outputs": [],
   "source": []
  },
  {
   "cell_type": "code",
   "execution_count": null,
   "id": "76b98f87",
   "metadata": {},
   "outputs": [],
   "source": []
  },
  {
   "cell_type": "code",
   "execution_count": null,
   "id": "213b181d",
   "metadata": {},
   "outputs": [],
   "source": []
  }
 ],
 "metadata": {
  "kernelspec": {
   "display_name": "Python 3 (ipykernel)",
   "language": "python",
   "name": "python3"
  },
  "language_info": {
   "codemirror_mode": {
    "name": "ipython",
    "version": 3
   },
   "file_extension": ".py",
   "mimetype": "text/x-python",
   "name": "python",
   "nbconvert_exporter": "python",
   "pygments_lexer": "ipython3",
   "version": "3.9.12"
  }
 },
 "nbformat": 4,
 "nbformat_minor": 5
}
